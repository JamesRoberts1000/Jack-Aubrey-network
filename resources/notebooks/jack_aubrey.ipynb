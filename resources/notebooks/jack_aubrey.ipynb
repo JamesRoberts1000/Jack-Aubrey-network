{
 "cells": [
  {
   "cell_type": "code",
   "execution_count": 1,
   "id": "11f595b4-bb1d-47a8-9f85-14b1991f1343",
   "metadata": {},
   "outputs": [
    {
     "name": "stdout",
     "output_type": "stream",
     "text": [
      "3.10.14 (main, May  6 2024, 14:47:20) [Clang 14.0.6 ]\n"
     ]
    }
   ],
   "source": [
    "# Note that Spacy is not compatable with Python 3.12. Check the environment is\n",
    "# loaded with an older version of Python (3.11 or older) \n",
    "import sys\n",
    "print(sys.version)"
   ]
  },
  {
   "cell_type": "code",
   "execution_count": 2,
   "id": "da7c8e07-0c84-49c7-9b94-848700339dfb",
   "metadata": {},
   "outputs": [],
   "source": [
    "#!pip install PyPDF2\n",
    "#!pip install pdfplumber"
   ]
  },
  {
   "cell_type": "code",
   "execution_count": 3,
   "id": "57ca7931-6734-4754-ab9c-1d4de2a0e080",
   "metadata": {},
   "outputs": [
    {
     "name": "stdout",
     "output_type": "stream",
     "text": [
      "Intel MKL WARNING: Support of Intel(R) Streaming SIMD Extensions 4.2 (Intel(R) SSE4.2) enabled only processors has been deprecated. Intel oneAPI Math Kernel Library 2025.0 will require Intel(R) Advanced Vector Extensions (Intel(R) AVX) instructions.\n",
      "Intel MKL WARNING: Support of Intel(R) Streaming SIMD Extensions 4.2 (Intel(R) SSE4.2) enabled only processors has been deprecated. Intel oneAPI Math Kernel Library 2025.0 will require Intel(R) Advanced Vector Extensions (Intel(R) AVX) instructions.\n"
     ]
    }
   ],
   "source": [
    "import pandas as pd\n",
    "import numpy as np\n",
    "import spacy\n",
    "from spacy import displacy\n",
    "import networkx as nx\n",
    "import scipy\n",
    "from pyvis.network import Network\n",
    "import matplotlib.pyplot as plt\n",
    "import community.community_louvain as cl\n",
    "#from lib.utils.functions import *\n",
    "import PyPDF2\n",
    "import pdfplumber"
   ]
  },
  {
   "cell_type": "code",
   "execution_count": 4,
   "id": "ec673abd-4156-467f-9033-9302661c1568",
   "metadata": {
    "collapsed": true,
    "jupyter": {
     "outputs_hidden": true
    }
   },
   "outputs": [
    {
     "name": "stdout",
     "output_type": "stream",
     "text": [
      "Intel MKL WARNING: Support of Intel(R) Streaming SIMD Extensions 4.2 (Intel(R) SSE4.2) enabled only processors has been deprecated. Intel oneAPI Math Kernel Library 2025.0 will require Intel(R) Advanced Vector Extensions (Intel(R) AVX) instructions.\n",
      "Intel MKL WARNING: Support of Intel(R) Streaming SIMD Extensions 4.2 (Intel(R) SSE4.2) enabled only processors has been deprecated. Intel oneAPI Math Kernel Library 2025.0 will require Intel(R) Advanced Vector Extensions (Intel(R) AVX) instructions.\n",
      "Collecting en-core-web-sm==3.7.1\n",
      "  Downloading https://github.com/explosion/spacy-models/releases/download/en_core_web_sm-3.7.1/en_core_web_sm-3.7.1-py3-none-any.whl (12.8 MB)\n",
      "\u001b[2K     \u001b[90m━━━━━━━━━━━━━━━━━━━━━━━━━━━━━━━━━━━━━━━━\u001b[0m \u001b[32m12.8/12.8 MB\u001b[0m \u001b[31m11.8 MB/s\u001b[0m eta \u001b[36m0:00:00\u001b[0m00:01\u001b[0m00:01\u001b[0m\n",
      "\u001b[?25hRequirement already satisfied: spacy<3.8.0,>=3.7.2 in /Users/jamesroberts/anaconda3/envs/graph_network_spacy/lib/python3.10/site-packages (from en-core-web-sm==3.7.1) (3.7.2)\n",
      "Requirement already satisfied: spacy-legacy<3.1.0,>=3.0.11 in /Users/jamesroberts/anaconda3/envs/graph_network_spacy/lib/python3.10/site-packages (from spacy<3.8.0,>=3.7.2->en-core-web-sm==3.7.1) (3.0.12)\n",
      "Requirement already satisfied: spacy-loggers<2.0.0,>=1.0.0 in /Users/jamesroberts/anaconda3/envs/graph_network_spacy/lib/python3.10/site-packages (from spacy<3.8.0,>=3.7.2->en-core-web-sm==3.7.1) (1.0.4)\n",
      "Requirement already satisfied: murmurhash<1.1.0,>=0.28.0 in /Users/jamesroberts/anaconda3/envs/graph_network_spacy/lib/python3.10/site-packages (from spacy<3.8.0,>=3.7.2->en-core-web-sm==3.7.1) (1.0.7)\n",
      "Requirement already satisfied: cymem<2.1.0,>=2.0.2 in /Users/jamesroberts/anaconda3/envs/graph_network_spacy/lib/python3.10/site-packages (from spacy<3.8.0,>=3.7.2->en-core-web-sm==3.7.1) (2.0.6)\n",
      "Requirement already satisfied: preshed<3.1.0,>=3.0.2 in /Users/jamesroberts/anaconda3/envs/graph_network_spacy/lib/python3.10/site-packages (from spacy<3.8.0,>=3.7.2->en-core-web-sm==3.7.1) (3.0.6)\n",
      "Requirement already satisfied: thinc<8.3.0,>=8.1.8 in /Users/jamesroberts/anaconda3/envs/graph_network_spacy/lib/python3.10/site-packages (from spacy<3.8.0,>=3.7.2->en-core-web-sm==3.7.1) (8.2.2)\n",
      "Requirement already satisfied: wasabi<1.2.0,>=0.9.1 in /Users/jamesroberts/anaconda3/envs/graph_network_spacy/lib/python3.10/site-packages (from spacy<3.8.0,>=3.7.2->en-core-web-sm==3.7.1) (0.9.1)\n",
      "Requirement already satisfied: srsly<3.0.0,>=2.4.3 in /Users/jamesroberts/anaconda3/envs/graph_network_spacy/lib/python3.10/site-packages (from spacy<3.8.0,>=3.7.2->en-core-web-sm==3.7.1) (2.4.8)\n",
      "Requirement already satisfied: catalogue<2.1.0,>=2.0.6 in /Users/jamesroberts/anaconda3/envs/graph_network_spacy/lib/python3.10/site-packages (from spacy<3.8.0,>=3.7.2->en-core-web-sm==3.7.1) (2.0.10)\n",
      "Requirement already satisfied: weasel<0.4.0,>=0.1.0 in /Users/jamesroberts/anaconda3/envs/graph_network_spacy/lib/python3.10/site-packages (from spacy<3.8.0,>=3.7.2->en-core-web-sm==3.7.1) (0.3.4)\n",
      "Requirement already satisfied: typer<0.10.0,>=0.3.0 in /Users/jamesroberts/anaconda3/envs/graph_network_spacy/lib/python3.10/site-packages (from spacy<3.8.0,>=3.7.2->en-core-web-sm==3.7.1) (0.9.0)\n",
      "Requirement already satisfied: smart-open<7.0.0,>=5.2.1 in /Users/jamesroberts/anaconda3/envs/graph_network_spacy/lib/python3.10/site-packages (from spacy<3.8.0,>=3.7.2->en-core-web-sm==3.7.1) (5.2.1)\n",
      "Requirement already satisfied: tqdm<5.0.0,>=4.38.0 in /Users/jamesroberts/anaconda3/envs/graph_network_spacy/lib/python3.10/site-packages (from spacy<3.8.0,>=3.7.2->en-core-web-sm==3.7.1) (4.66.4)\n",
      "Requirement already satisfied: requests<3.0.0,>=2.13.0 in /Users/jamesroberts/anaconda3/envs/graph_network_spacy/lib/python3.10/site-packages (from spacy<3.8.0,>=3.7.2->en-core-web-sm==3.7.1) (2.32.3)\n",
      "Requirement already satisfied: pydantic!=1.8,!=1.8.1,<3.0.0,>=1.7.4 in /Users/jamesroberts/anaconda3/envs/graph_network_spacy/lib/python3.10/site-packages (from spacy<3.8.0,>=3.7.2->en-core-web-sm==3.7.1) (2.5.3)\n",
      "Requirement already satisfied: jinja2 in /Users/jamesroberts/anaconda3/envs/graph_network_spacy/lib/python3.10/site-packages (from spacy<3.8.0,>=3.7.2->en-core-web-sm==3.7.1) (3.1.4)\n",
      "Requirement already satisfied: setuptools in /Users/jamesroberts/anaconda3/envs/graph_network_spacy/lib/python3.10/site-packages (from spacy<3.8.0,>=3.7.2->en-core-web-sm==3.7.1) (69.5.1)\n",
      "Requirement already satisfied: packaging>=20.0 in /Users/jamesroberts/anaconda3/envs/graph_network_spacy/lib/python3.10/site-packages (from spacy<3.8.0,>=3.7.2->en-core-web-sm==3.7.1) (24.1)\n",
      "Requirement already satisfied: langcodes<4.0.0,>=3.2.0 in /Users/jamesroberts/anaconda3/envs/graph_network_spacy/lib/python3.10/site-packages (from spacy<3.8.0,>=3.7.2->en-core-web-sm==3.7.1) (3.3.0)\n",
      "Requirement already satisfied: numpy>=1.19.0 in /Users/jamesroberts/anaconda3/envs/graph_network_spacy/lib/python3.10/site-packages (from spacy<3.8.0,>=3.7.2->en-core-web-sm==3.7.1) (1.26.4)\n",
      "Requirement already satisfied: annotated-types>=0.4.0 in /Users/jamesroberts/anaconda3/envs/graph_network_spacy/lib/python3.10/site-packages (from pydantic!=1.8,!=1.8.1,<3.0.0,>=1.7.4->spacy<3.8.0,>=3.7.2->en-core-web-sm==3.7.1) (0.6.0)\n",
      "Requirement already satisfied: pydantic-core==2.14.6 in /Users/jamesroberts/anaconda3/envs/graph_network_spacy/lib/python3.10/site-packages (from pydantic!=1.8,!=1.8.1,<3.0.0,>=1.7.4->spacy<3.8.0,>=3.7.2->en-core-web-sm==3.7.1) (2.14.6)\n",
      "Requirement already satisfied: typing-extensions>=4.6.1 in /Users/jamesroberts/anaconda3/envs/graph_network_spacy/lib/python3.10/site-packages (from pydantic!=1.8,!=1.8.1,<3.0.0,>=1.7.4->spacy<3.8.0,>=3.7.2->en-core-web-sm==3.7.1) (4.11.0)\n",
      "Requirement already satisfied: charset-normalizer<4,>=2 in /Users/jamesroberts/anaconda3/envs/graph_network_spacy/lib/python3.10/site-packages (from requests<3.0.0,>=2.13.0->spacy<3.8.0,>=3.7.2->en-core-web-sm==3.7.1) (3.3.2)\n",
      "Requirement already satisfied: idna<4,>=2.5 in /Users/jamesroberts/anaconda3/envs/graph_network_spacy/lib/python3.10/site-packages (from requests<3.0.0,>=2.13.0->spacy<3.8.0,>=3.7.2->en-core-web-sm==3.7.1) (3.7)\n",
      "Requirement already satisfied: urllib3<3,>=1.21.1 in /Users/jamesroberts/anaconda3/envs/graph_network_spacy/lib/python3.10/site-packages (from requests<3.0.0,>=2.13.0->spacy<3.8.0,>=3.7.2->en-core-web-sm==3.7.1) (2.2.2)\n",
      "Requirement already satisfied: certifi>=2017.4.17 in /Users/jamesroberts/anaconda3/envs/graph_network_spacy/lib/python3.10/site-packages (from requests<3.0.0,>=2.13.0->spacy<3.8.0,>=3.7.2->en-core-web-sm==3.7.1) (2024.7.4)\n",
      "Requirement already satisfied: blis<0.8.0,>=0.7.8 in /Users/jamesroberts/anaconda3/envs/graph_network_spacy/lib/python3.10/site-packages (from thinc<8.3.0,>=8.1.8->spacy<3.8.0,>=3.7.2->en-core-web-sm==3.7.1) (0.7.9)\n",
      "Requirement already satisfied: confection<1.0.0,>=0.0.1 in /Users/jamesroberts/anaconda3/envs/graph_network_spacy/lib/python3.10/site-packages (from thinc<8.3.0,>=8.1.8->spacy<3.8.0,>=3.7.2->en-core-web-sm==3.7.1) (0.1.4)\n",
      "Requirement already satisfied: click<9.0.0,>=7.1.1 in /Users/jamesroberts/anaconda3/envs/graph_network_spacy/lib/python3.10/site-packages (from typer<0.10.0,>=0.3.0->spacy<3.8.0,>=3.7.2->en-core-web-sm==3.7.1) (8.1.7)\n",
      "Requirement already satisfied: cloudpathlib<0.17.0,>=0.7.0 in /Users/jamesroberts/anaconda3/envs/graph_network_spacy/lib/python3.10/site-packages (from weasel<0.4.0,>=0.1.0->spacy<3.8.0,>=3.7.2->en-core-web-sm==3.7.1) (0.16.0)\n",
      "Requirement already satisfied: MarkupSafe>=2.0 in /Users/jamesroberts/anaconda3/envs/graph_network_spacy/lib/python3.10/site-packages (from jinja2->spacy<3.8.0,>=3.7.2->en-core-web-sm==3.7.1) (2.1.3)\n",
      "\u001b[38;5;2m✔ Download and installation successful\u001b[0m\n",
      "You can now load the package via spacy.load('en_core_web_sm')\n"
     ]
    }
   ],
   "source": [
    "!python3 -m spacy download en_core_web_sm"
   ]
  },
  {
   "cell_type": "code",
   "execution_count": 5,
   "id": "38251491-865c-4a39-9b03-06f726d8c51b",
   "metadata": {},
   "outputs": [],
   "source": [
    "# Load spacy English languague model\n",
    "NER = spacy.load(\"en_core_web_sm\")"
   ]
  },
  {
   "cell_type": "markdown",
   "id": "d76e3a7c-e832-4366-b808-fa1d65b7fac6",
   "metadata": {},
   "source": [
    "### Import the first book"
   ]
  },
  {
   "cell_type": "code",
   "execution_count": 6,
   "id": "59b8c586-433a-4aed-ab9a-be3510599771",
   "metadata": {},
   "outputs": [
    {
     "name": "stdout",
     "output_type": "stream",
     "text": [
      "Number of pages: 243\n",
      "First non-empty line: Master and Commander  \n",
      "PDF imported successfully!\n"
     ]
    }
   ],
   "source": [
    "# Import the first pdf\n",
    "\"\"\"with open('Master-and-Commander.pdf', 'rb') as pdf_file:\n",
    "    pdf_reader = PyPDF2.PdfReader(pdf_file)\n",
    "    num_pages = len(pdf_reader.pages)\n",
    "    print(\"Number of pages:\", num_pages)\n",
    "print(\"PDF imported successfully!\")\n",
    "\"\"\"\n",
    "\n",
    "with open('Master-and-Commander.pdf', 'rb') as pdf_file:\n",
    "    pdf_reader = PyPDF2.PdfReader(pdf_file)\n",
    "    num_pages = len(pdf_reader.pages)\n",
    "    print(\"Number of pages:\", num_pages)\n",
    "\n",
    "    # Extract text from the first page\n",
    "    first_page_text = pdf_reader.pages[0].extract_text()\n",
    "    lines = first_page_text.splitlines()\n",
    "    for line in lines:\n",
    "        if line.strip():\n",
    "            print(\"First non-empty line:\", line)\n",
    "            break\n",
    "print(\"PDF imported successfully!\")"
   ]
  },
  {
   "cell_type": "code",
   "execution_count": 7,
   "id": "7af6e6e7-a5ca-4d46-b01a-dd8f132ccfc3",
   "metadata": {},
   "outputs": [
    {
     "name": "stdout",
     "output_type": "stream",
     "text": [
      "Number of pages: 243\n",
      "First non-empty line (line number 4): Master and Commander  \n",
      "PDF imported successfully!\n"
     ]
    }
   ],
   "source": [
    "with open('Master-and-Commander.pdf', 'rb') as pdf_file:\n",
    "    pdf_reader = PyPDF2.PdfReader(pdf_file)\n",
    "    num_pages = len(pdf_reader.pages)\n",
    "    print(\"Number of pages:\", num_pages)\n",
    "\n",
    "    # Extract text from the first page\n",
    "    first_page_text = pdf_reader.pages[0].extract_text()\n",
    "    lines = first_page_text.splitlines()\n",
    "    for i, line in enumerate(lines):\n",
    "        if line.strip():\n",
    "            print(\"First non-empty line (line number {}): {}\".format(i+1, line))\n",
    "            break\n",
    "print(\"PDF imported successfully!\")"
   ]
  },
  {
   "cell_type": "code",
   "execution_count": 8,
   "id": "50600c6a-ab3b-4f0b-81fe-1b53c4b14cc3",
   "metadata": {},
   "outputs": [
    {
     "ename": "NameError",
     "evalue": "name 'extract_text_from_pdf' is not defined",
     "output_type": "error",
     "traceback": [
      "\u001b[0;31m---------------------------------------------------------------------------\u001b[0m",
      "\u001b[0;31mNameError\u001b[0m                                 Traceback (most recent call last)",
      "Cell \u001b[0;32mIn[8], line 21\u001b[0m\n\u001b[1;32m     19\u001b[0m \u001b[38;5;66;03m# Example usage\u001b[39;00m\n\u001b[1;32m     20\u001b[0m pdf_file \u001b[38;5;241m=\u001b[39m \u001b[38;5;124m'\u001b[39m\u001b[38;5;124mMaster-and-Commander.pdf\u001b[39m\u001b[38;5;124m'\u001b[39m\n\u001b[0;32m---> 21\u001b[0m pdf_text \u001b[38;5;241m=\u001b[39m \u001b[43mextract_text_from_pdf\u001b[49m(pdf_file)\n\u001b[1;32m     22\u001b[0m pdf_doc \u001b[38;5;241m=\u001b[39m NER(pdf_text)\n\u001b[1;32m     25\u001b[0m \u001b[38;5;66;03m# Visualize identified entities\u001b[39;00m\n",
      "\u001b[0;31mNameError\u001b[0m: name 'extract_text_from_pdf' is not defined"
     ]
    }
   ],
   "source": [
    "#book_text = open('Master-and-Commander.pdf').read()\n",
    "#book_doc = NER(book_text)\n",
    "\n",
    "\n",
    "\n",
    "\"\"\"\n",
    "# Load the spaCy model\n",
    "nlp = spacy.load(\"en_core_web_sm\")\n",
    "\n",
    "def extract_text_from_pdf(pdf_path):\n",
    "  # ... (your previous code)\n",
    "\n",
    "def NER(text):\n",
    "  doc = nlp(text)\n",
    "  # Process the doc object to extract entities\n",
    "  # ...\n",
    "  return entities  # or any other desired output\n",
    "\"\"\"\n",
    "# Example usage\n",
    "pdf_file = 'Master-and-Commander.pdf'\n",
    "pdf_text = extract_text_from_pdf(pdf_file)\n",
    "pdf_doc = NER(pdf_text)\n",
    "\n",
    "\n",
    "# Visualize identified entities\n",
    "displacy.render(pdf_doc[0:1000], style=\"ent\", jupyter=True)\n"
   ]
  },
  {
   "cell_type": "code",
   "execution_count": null,
   "id": "bd0a8f2c-9e38-44d7-aecf-4e07ad0b94dc",
   "metadata": {},
   "outputs": [],
   "source": [
    "STOP\n",
    "def extract_text_from_pdf(pdf_path):\n",
    "  \"\"\"Extracts text from a PDF file.\n",
    "\n",
    "  Args:\n",
    "    pdf_path: Path to the PDF file.\n",
    "\n",
    "  Returns:\n",
    "    A string containing the extracted text.\n",
    "  \"\"\"\n",
    "\n",
    "  with open(pdf_path, 'rb') as pdf_file:\n",
    "    pdf_reader = PyPDF2.PdfReader(pdf_file)\n",
    "    text = \"\"\n",
    "    for page_num in range(len(pdf_reader.pages)):\n",
    "      page = pdf_reader.pages[page_num]\n",
    "      text += page.extract_text()\n",
    "  return text\n",
    "\n",
    "# Example usage\n",
    "pdf_file = 'Master-and-Commander.pdf'\n",
    "pdf_text = extract_text_from_pdf(pdf_file)\n",
    "pdf_doc = NER(pdf_text)"
   ]
  },
  {
   "cell_type": "code",
   "execution_count": null,
   "id": "826eeca2-b005-4876-af1d-0b01d198dcad",
   "metadata": {},
   "outputs": [],
   "source": [
    "if pdf_doc:\n",
    "    displacy.render(pdf_doc[0:1000], style=\"ent\", jupyter=True)\n",
    "else:\n",
    "    print(\"NER function returned None\")"
   ]
  },
  {
   "cell_type": "code",
   "execution_count": null,
   "id": "70fcff2e-83b4-439c-86fd-9b5d0145285d",
   "metadata": {},
   "outputs": [],
   "source": [
    "# Visualize identified entities\n",
    "displacy.render(pdf_doc[0:1000], style=\"ent\", jupyter=True)"
   ]
  }
 ],
 "metadata": {
  "kernelspec": {
   "display_name": "Python 3 (ipykernel)",
   "language": "python",
   "name": "python3"
  },
  "language_info": {
   "codemirror_mode": {
    "name": "ipython",
    "version": 3
   },
   "file_extension": ".py",
   "mimetype": "text/x-python",
   "name": "python",
   "nbconvert_exporter": "python",
   "pygments_lexer": "ipython3",
   "version": "3.10.9"
  }
 },
 "nbformat": 4,
 "nbformat_minor": 5
}
