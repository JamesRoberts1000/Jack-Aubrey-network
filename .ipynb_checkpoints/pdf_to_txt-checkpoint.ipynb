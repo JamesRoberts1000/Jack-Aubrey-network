{
 "cells": [
  {
   "cell_type": "code",
   "execution_count": 1,
   "id": "1e58e806-4ef8-46fb-8c43-fec735232111",
   "metadata": {},
   "outputs": [
    {
     "name": "stdout",
     "output_type": "stream",
     "text": [
      "3.12.4 | packaged by Anaconda, Inc. | (main, Jun 18 2024, 10:14:12) [Clang 14.0.6 ]\n"
     ]
    }
   ],
   "source": [
    "#!pip install pdfplumber\n",
    "import sys\n",
    "print(sys.version)"
   ]
  },
  {
   "cell_type": "code",
   "execution_count": 2,
   "id": "bd16dab0-3033-4c3e-819e-2770c78cd17e",
   "metadata": {},
   "outputs": [],
   "source": [
    "import PyPDF2\n",
    "import pdfplumber"
   ]
  },
  {
   "cell_type": "code",
   "execution_count": 3,
   "id": "c46553c3-2409-4b55-89ed-9f7f5fb11487",
   "metadata": {},
   "outputs": [
    {
     "name": "stdout",
     "output_type": "stream",
     "text": [
      "Number of pages: 243\n",
      "First non-empty line: Master and Commander  \n"
     ]
    }
   ],
   "source": [
    "import PyPDF2\n",
    "\n",
    "with open('Master-and-Commander.pdf', 'rb') as pdf_file:\n",
    "  pdf_reader = PyPDF2.PdfReader(pdf_file)\n",
    "  num_pages = len(pdf_reader.pages)\n",
    "  print(\"Number of pages:\", num_pages)\n",
    "\n",
    "  first_page_text = pdf_reader.pages[0].extract_text()\n",
    "  lines = first_page_text.splitlines()\n",
    "\n",
    "  for line in lines:\n",
    "    if line.strip():\n",
    "      print(\"First non-empty line:\", line)\n",
    "      break\n"
   ]
  },
  {
   "cell_type": "code",
   "execution_count": 4,
   "id": "bc6bfab7-5c78-452b-864d-d217dea92857",
   "metadata": {},
   "outputs": [
    {
     "name": "stdout",
     "output_type": "stream",
     "text": [
      "Number of pages: 243\n",
      " \n",
      " \n",
      " \n",
      "Master and Commander  \n",
      " \n",
      "Aubrey & Maturin,  #1  \n",
      " \n",
      " \n",
      "by Patrick O‘Brian, 1914-2000 \n",
      " \n",
      " \n",
      "Published:  1969 \n",
      " \n",
      " \n",
      " \n",
      " \n",
      " \n",
      "J J J J J   I I I I I \n",
      " \n",
      " \n",
      " \n",
      " \n",
      " \n",
      "Table of Contents \n",
      " \n",
      " \n",
      "Dedication \n",
      "Author’s Note \n",
      "\u0001 \n",
      "Chapter  1 …  thru  …  Chapter  12 \n",
      "\u0002 \n"
     ]
    }
   ],
   "source": [
    "import PyPDF2\n",
    "\n",
    "with open('Master-and-Commander.pdf', 'rb') as pdf_file:\n",
    "  pdf_reader = PyPDF2.PdfReader(pdf_file)\n",
    "  num_pages = len(pdf_reader.pages)\n",
    "  print(\"Number of pages:\", num_pages)\n",
    "\n",
    "  first_page_text = pdf_reader.pages[0].extract_text()\n",
    "  print(first_page_text)\n"
   ]
  },
  {
   "cell_type": "code",
   "execution_count": 5,
   "id": "331ad3dc-3b87-4933-88ee-01ee27c3d2d3",
   "metadata": {},
   "outputs": [
    {
     "name": "stdout",
     "output_type": "stream",
     "text": [
      "Master and Commander\n",
      "Aubrey & Maturin, #1\n",
      "by Patrick O‘Brian, 1914-2000\n",
      "Published: 1969\n",
      "J J J J J I I I I I\n",
      "Table of Contents\n",
      "Dedication\n",
      "Author’s Note\n",
      "(cid:1)\n",
      "Chapter 1 … thru … Chapter 12\n",
      "(cid:2)\n"
     ]
    }
   ],
   "source": [
    "import pdfplumber\n",
    "\n",
    "with pdfplumber.open('Master-and-Commander.pdf') as pdf:\n",
    "    first_page = pdf.pages[0]\n",
    "    text = first_page.extract_text()\n",
    "    print(text)\n"
   ]
  },
  {
   "cell_type": "code",
   "execution_count": 70,
   "id": "8909cfb4-a3a4-4152-b7a3-27353ff8f4d4",
   "metadata": {},
   "outputs": [
    {
     "name": "stdout",
     "output_type": "stream",
     "text": [
      "Chapter 1\n"
     ]
    }
   ],
   "source": [
    "# Identify position to start extracting text from\n",
    "\n",
    "with pdfplumber.open('Master-and-Commander.pdf') as pdf:\n",
    "    page_text = pdf.pages[2].extract_text()  # Extract text from page 3 (index 2)\n",
    "    lines = page_text.split('\\n')  # Split text into lines\n",
    "    specific_line = lines[10]  # Get the 11th line (index 10)\n",
    "    \n",
    "print(specific_line)"
   ]
  },
  {
   "cell_type": "code",
   "execution_count": 71,
   "id": "e66addb2-6e9a-4393-a1bb-6a305986e72a",
   "metadata": {},
   "outputs": [
    {
     "name": "stdout",
     "output_type": "stream",
     "text": [
      "honourable defence of your country.'\n"
     ]
    }
   ],
   "source": [
    "# Identify position extract up to\n",
    "\n",
    "with pdfplumber.open('Master-and-Commander.pdf') as pdf:\n",
    "    page_text = pdf.pages[240].extract_text()  # Extract text from page 241 (index 240)\n",
    "    lines = page_text.split('\\n')  # Split text into lines\n",
    "    specific_line = lines[21]  # Get the 23rd line (index 22)\n",
    "    \n",
    "print(specific_line)\n"
   ]
  },
  {
   "cell_type": "code",
   "execution_count": 72,
   "id": "fadce98a-eae1-4ab2-82e3-42cb5edeafbe",
   "metadata": {},
   "outputs": [
    {
     "name": "stdout",
     "output_type": "stream",
     "text": [
      "Text successfully extracted and saved to /Users/jamesroberts/Documents/Work/Career/Data Analysis/jack_aubrey_network/extracted_text.txt\n"
     ]
    }
   ],
   "source": [
    "# Now identify the full text string and export it as a .txt file\n",
    "\n",
    "import pdfplumber\n",
    "\n",
    "# Define the start and end positions\n",
    "start_page = 2  # Page 3 (index 2)\n",
    "start_line = 10  # Line 11 (index 10)\n",
    "end_page = 240  # Page 241 (index 240)\n",
    "end_line = 21  # Line 22 (index 21)\n",
    "\n",
    "# Extract the text from the specified range\n",
    "extracted_text = \"\"\n",
    "\n",
    "with pdfplumber.open('Master-and-Commander.pdf') as pdf:\n",
    "    for page_num in range(start_page, end_page + 1):\n",
    "        page_text = pdf.pages[page_num].extract_text()\n",
    "        lines = page_text.split('\\n')\n",
    "        \n",
    "        if page_num == start_page:\n",
    "            # Start from the specified start line on the start page\n",
    "            extracted_text += '\\n'.join(lines[start_line:]) + '\\n'\n",
    "        elif page_num == end_page:\n",
    "            # End at the specified end line on the end page\n",
    "            extracted_text += '\\n'.join(lines[:end_line + 1]) + '\\n'\n",
    "        else:\n",
    "            # Add the entire page for intermediate pages\n",
    "            extracted_text += page_text + '\\n'\n",
    "\n",
    "# Save the extracted text to a .txt file\n",
    "output_path = '/Users/jamesroberts/Documents/Work/Career/Data Analysis/jack_aubrey_network/extracted_text.txt'\n",
    "with open(output_path, 'w', encoding='utf-8') as file:\n",
    "    file.write(extracted_text)\n",
    "\n",
    "print(f'Text successfully extracted and saved to {output_path}')\n"
   ]
  },
  {
   "cell_type": "code",
   "execution_count": null,
   "id": "fbf32d89-1e51-4b5d-a680-82516ca50023",
   "metadata": {},
   "outputs": [],
   "source": [
    "\n"
   ]
  },
  {
   "cell_type": "code",
   "execution_count": null,
   "id": "347c8781-3796-4604-a560-b889ec276b06",
   "metadata": {},
   "outputs": [],
   "source": [
    "\n"
   ]
  }
 ],
 "metadata": {
  "kernelspec": {
   "display_name": "Python 3 (ipykernel)",
   "language": "python",
   "name": "python3"
  },
  "language_info": {
   "codemirror_mode": {
    "name": "ipython",
    "version": 3
   },
   "file_extension": ".py",
   "mimetype": "text/x-python",
   "name": "python",
   "nbconvert_exporter": "python",
   "pygments_lexer": "ipython3",
   "version": "3.12.4"
  }
 },
 "nbformat": 4,
 "nbformat_minor": 5
}
